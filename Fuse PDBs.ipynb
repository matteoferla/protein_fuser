{
 "cells": [
  {
   "cell_type": "markdown",
   "metadata": {},
   "source": [
    "One operation I often do is fuse protein together... This is the automated version.\n",
    "\n",
    "The Debug bool will display each step in a jupyter notebook"
   ]
  },
  {
   "cell_type": "code",
   "execution_count": null,
   "metadata": {},
   "outputs": [],
   "source": [
    "from protein_fuser import Fuser\n",
    "import pymol2\n",
    "uniprot = 'Q00341'\n",
    "\n",
    "with pymol2.SingletonPyMOL() as pymol:\n",
    "    Fuser.pymol = pymol\n",
    "    f = Fuser.from_uniprot(uniprot, debug=True)\n",
    "    f.order()\n",
    "    print(f.joints)\n",
    "    pymol.exporting.multisave('tmp.pdb')\n",
    "    f.save('fusion.pdb')\n",
    "print('done')"
   ]
  },
  {
   "cell_type": "code",
   "execution_count": null,
   "metadata": {},
   "outputs": [],
   "source": [
    "import os, requests, time, json, uuid\n",
    "import pandas as pd\n",
    "import numpy as np\n",
    "from IPython.display import display, HTML, Image\n",
    "from Bio.SeqUtils import seq3\n",
    "from collections import namedtuple\n",
    "from warnings import warn"
   ]
  },
  {
   "cell_type": "code",
   "execution_count": null,
   "metadata": {
    "scrolled": false
   },
   "outputs": [],
   "source": [
    "## vigilin\n",
    "uniprot = 'Q00341'\n",
    "pdbs = [{'x': 432, 'y': 502, 'id': '1VIG_A', 'description': '1VIG'}, \n",
    "        {'x': 432, 'y': 502, 'id': '1VIH_A', 'description': '1VIH'}, \n",
    "        {'x': 142, 'y': 222, 'id': '2CTE_A', 'description': '2CTE'},\n",
    "        {'x': 346, 'y': 434, 'id': '2CTF_A', 'description': '2CTF'}, \n",
    "        {'x': 645, 'y': 726, 'id': '2CTJ_A', 'description': '2CTJ'},\n",
    "        {'x': 964, 'y': 1054, 'id': '2CTK_A', 'description': '2CTK'},\n",
    "        {'x': 1044, 'y': 1127, 'id': '2CTL_A', 'description': '2CTL'},\n",
    "        {'x': 1119, 'y': 1200, 'id': '2CTM_A', 'description': '2CTM'}]\n",
    "swissmodel = [{'x': 581, 'y': 724, 'id': '5d5620399ffd12cf2f734256', 'description': '2n8m.1.A (id:2e+01%)'},\n",
    "              {'x': 1053, 'y': 1198, 'id': '5c5f33ed8fd6f9f9ae62f475', 'description': '2jvz.1.A (id:2e+01%)'},\n",
    "              {'x': 583, 'y': 723, 'id': '5c5f33ed8fd6f9f9ae62f465', 'description': '3aev.1.B (id:3e+01%)'},\n",
    "              {'x': 726, 'y': 1068, 'id': '5d5620399ffd12cf2f73425e', 'description': '3n89.1.A (id:1e+01%)'},\n",
    "              {'x': 346, 'y': 434, 'id': '5c5f33ed8fd6f9f9ae62f469', 'description': '2ctf.1.A (id:1e+02%)'},\n",
    "              {'x': 1053, 'y': 1199, 'id': '5d56203a9ffd12cf2f734266', 'description': '3krm.1.A (id:2e+01%)'},\n",
    "              {'x': 508, 'y': 648, 'id': '5d5620399ffd12cf2f734246', 'description': '5wyj.31.A (id:2e+01%)'},\n",
    "              {'x': 584, 'y': 720, 'id': '5c5f33ed8fd6f9f9ae62f485', 'description': '1j4w.1.B (id:2e+01%)'},\n",
    "              {'x': 860, 'y': 1194, 'id': '5d5620399ffd12cf2f73424e', 'description': '3n89.1.A (id:2e+01%)'},\n",
    "              {'x': 655, 'y': 798, 'id': '5c5f33ed8fd6f9f9ae62f491', 'description': '2jvz.1.A (id:2e+01%)'},\n",
    "              {'x': 653, 'y': 796, 'id': '5c5f33ed8fd6f9f9ae62f499', 'description': '6fai.1.F (id:2e+01%)'},\n",
    "              {'x': 651, 'y': 799, 'id': '5d5620399ffd12cf2f73425a', 'description': '2n8m.1.A (id:2e+01%)'},\n",
    "              {'x': 73, 'y': 219, 'id': '5f267302895fd009f58c70e2', 'description': '3i82.1.A (id:1e+01%)'},\n",
    "              {'x': 1055, 'y': 1193, 'id': '5c5f33ed8fd6f9f9ae62f471', 'description': '1j4w.1.B (id:2e+01%)'},\n",
    "              {'x': 432, 'y': 502, 'id': '5be4a0a502efd0cd3370539f', 'description': '1vih (id:%)'},\n",
    "              {'x': 432, 'y': 502, 'id': '5be49e6e02efd0c70a281b5c', 'description': '1vig (id:%)'},\n",
    "              {'x': 346, 'y': 434, 'id': '5be49cbe02efd0c17498a975', 'description': '2ctf (id:%)'},\n",
    "              {'x': 1119, 'y': 1200, 'id': '5be4adbd02efd0f036d2a8c4', 'description': '2ctm (id:%)'},\n",
    "               {'x': 964, 'y': 1054, 'id': '5be4a89802efd0e17f75807a', 'description': '2ctk (id:%)'},\n",
    "              {'x': 1044, 'y': 1127, 'id': '5be4ab5f02efd0e942407c0c', 'description': '2ctl (id:%)'},\n",
    "              {'x': 142, 'y': 222, 'id': '5be4999502efd0b97cdb5dd6', 'description': '2cte (id:%)'},\n",
    "              {'x': 645, 'y': 726, 'id': '5be4a62b02efd0db3ee53fd0', 'description': '2ctj (id:%)'}]\n",
    "features = {'initiator methionine': [{'x': 1, 'y': 1, 'description': 'Removed', 'id': 'initiatormethionine_1', 'type': 'initiator methionine'}], 'chain': [{'x': 2, 'y': 1268, 'description': 'Vigilin', 'id': 'chain_2_1268', 'type': 'chain'}], 'domain': [{'x': 158, 'y': 229, 'description': 'KH 1', 'id': 'domain_158_229', 'type': 'domain'}, {'x': 230, 'y': 302, 'description': 'KH 2', 'id': 'domain_230_302', 'type': 'domain'}, {'x': 303, 'y': 371, 'description': 'KH 3', 'id': 'domain_303_371', 'type': 'domain'}, {'x': 372, 'y': 442, 'description': 'KH 4', 'id': 'domain_372_442', 'type': 'domain'}, {'x': 443, 'y': 514, 'description': 'KH 5', 'id': 'domain_443_514', 'type': 'domain'}, {'x': 515, 'y': 588, 'description': 'KH 6', 'id': 'domain_515_588', 'type': 'domain'}, {'x': 589, 'y': 660, 'description': 'KH 7', 'id': 'domain_589_660', 'type': 'domain'}, {'x': 661, 'y': 734, 'description': 'KH 8', 'id': 'domain_661_734', 'type': 'domain'}, {'x': 735, 'y': 807, 'description': 'KH 9', 'id': 'domain_735_807', 'type': 'domain'}, {'x': 808, 'y': 880, 'description': 'KH 10', 'id': 'domain_808_880', 'type': 'domain'}, {'x': 881, 'y': 979, 'description': 'KH 11', 'id': 'domain_881_979', 'type': 'domain'}, {'x': 980, 'y': 1059, 'description': 'KH 12', 'id': 'domain_980_1059', 'type': 'domain'}, {'x': 1060, 'y': 1134, 'description': 'KH 13', 'id': 'domain_1060_1134', 'type': 'domain'}, {'x': 1135, 'y': 1209, 'description': 'KH 14', 'id': 'domain_1135_1209', 'type': 'domain'}], 'modified residue': [{'x': 2, 'y': 2, 'description': 'N-acetylserine', 'id': 'modifiedresidue_2', 'type': 'modified residue'}, {'x': 8, 'y': 8, 'description': 'Phosphothreonine', 'id': 'modifiedresidue_8', 'type': 'modified residue'}, {'x': 11, 'y': 11, 'description': 'Phosphoserine', 'id': 'modifiedresidue_11', 'type': 'modified residue'}, {'x': 31, 'y': 31, 'description': 'Phosphoserine', 'id': 'modifiedresidue_31', 'type': 'modified residue'}, {'x': 35, 'y': 35, 'description': 'Phosphoserine', 'id': 'modifiedresidue_35', 'type': 'modified residue'}, {'x': 295, 'y': 295, 'description': 'Phosphothreonine', 'id': 'modifiedresidue_295', 'type': 'modified residue'}, {'x': 296, 'y': 296, 'description': 'Phosphothreonine', 'id': 'modifiedresidue_296', 'type': 'modified residue'}, {'x': 317, 'y': 317, 'description': 'Phosphoserine', 'id': 'modifiedresidue_317', 'type': 'modified residue'}, {'x': 437, 'y': 437, 'description': 'Phosphotyrosine', 'id': 'modifiedresidue_437', 'type': 'modified residue'}, {'x': 645, 'y': 645, 'description': 'Phosphoserine', 'id': 'modifiedresidue_645', 'type': 'modified residue'}, {'x': 991, 'y': 991, 'description': 'N6-acetyllysine', 'id': 'modifiedresidue_991', 'type': 'modified residue'}, {'x': 1247, 'y': 1247, 'description': 'Phosphoserine', 'id': 'modifiedresidue_1247', 'type': 'modified residue'}, {'x': 1252, 'y': 1252, 'description': 'Phosphoserine', 'id': 'modifiedresidue_1252', 'type': 'modified residue'}], 'splice variant': [{'x': 1, 'y': 1, 'description': 'In isoform 2.', 'id': 'splicevariant_1', 'type': 'splice variant'}, {'x': 291, 'y': 359, 'description': 'In isoform 2.', 'id': 'splicevariant_291_359', 'type': 'splice variant'}], 'sequence variant': [{'x': 61, 'y': 61, 'description': 'In dbSNP:rs11891776.', 'id': 'sequencevariant_61', 'type': 'sequence variant'}, {'x': 229, 'y': 229, 'description': 'In dbSNP:rs7572799.', 'id': 'sequencevariant_229', 'type': 'sequence variant'}, {'x': 418, 'y': 418, 'description': 'In dbSNP:rs7578199.', 'id': 'sequencevariant_418', 'type': 'sequence variant'}, {'x': 568, 'y': 568, 'description': 'In a breast cancer sample; somatic mutation.', 'id': 'sequencevariant_568', 'type': 'sequence variant'}, {'x': 939, 'y': 939, 'description': 'In a breast cancer sample; somatic mutation.', 'id': 'sequencevariant_939', 'type': 'sequence variant'}, {'x': 1264, 'y': 1264, 'description': 'In dbSNP:rs12281.', 'id': 'sequencevariant_1264', 'type': 'sequence variant'}], 'strand': [{'x': 151, 'y': 156, 'description': 'strand', 'id': 'strand_151_156', 'type': 'strand'}, {'x': 168, 'y': 170, 'description': 'strand', 'id': 'strand_168_170', 'type': 'strand'}, {'x': 195, 'y': 200, 'description': 'strand', 'id': 'strand_195_200', 'type': 'strand'}, {'x': 365, 'y': 370, 'description': 'strand', 'id': 'strand_365_370', 'type': 'strand'}, {'x': 395, 'y': 401, 'description': 'strand', 'id': 'strand_395_401', 'type': 'strand'}, {'x': 403, 'y': 405, 'description': 'strand', 'id': 'strand_403_405', 'type': 'strand'}, {'x': 407, 'y': 412, 'description': 'strand', 'id': 'strand_407_412', 'type': 'strand'}, {'x': 436, 'y': 442, 'description': 'strand', 'id': 'strand_436_442', 'type': 'strand'}, {'x': 468, 'y': 470, 'description': 'strand', 'id': 'strand_468_470', 'type': 'strand'}, {'x': 476, 'y': 487, 'description': 'strand', 'id': 'strand_476_487', 'type': 'strand'}, {'x': 656, 'y': 659, 'description': 'strand', 'id': 'strand_656_659', 'type': 'strand'}, {'x': 671, 'y': 673, 'description': 'strand', 'id': 'strand_671_673', 'type': 'strand'}, {'x': 687, 'y': 689, 'description': 'strand', 'id': 'strand_687_689', 'type': 'strand'}, {'x': 699, 'y': 704, 'description': 'strand', 'id': 'strand_699_704', 'type': 'strand'}, {'x': 973, 'y': 978, 'description': 'strand', 'id': 'strand_973_978', 'type': 'strand'}, {'x': 990, 'y': 992, 'description': 'strand', 'id': 'strand_990_992', 'type': 'strand'}, {'x': 1005, 'y': 1007, 'description': 'strand', 'id': 'strand_1005_1007', 'type': 'strand'}, {'x': 1017, 'y': 1022, 'description': 'strand', 'id': 'strand_1017_1022', 'type': 'strand'}, {'x': 1054, 'y': 1058, 'description': 'strand', 'id': 'strand_1054_1058', 'type': 'strand'}, {'x': 1070, 'y': 1072, 'description': 'strand', 'id': 'strand_1070_1072', 'type': 'strand'}, {'x': 1085, 'y': 1087, 'description': 'strand', 'id': 'strand_1085_1087', 'type': 'strand'}, {'x': 1098, 'y': 1105, 'description': 'strand', 'id': 'strand_1098_1105', 'type': 'strand'}, {'x': 1130, 'y': 1133, 'description': 'strand', 'id': 'strand_1130_1133', 'type': 'strand'}, {'x': 1145, 'y': 1147, 'description': 'strand', 'id': 'strand_1145_1147', 'type': 'strand'}, {'x': 1160, 'y': 1162, 'description': 'strand', 'id': 'strand_1160_1162', 'type': 'strand'}, {'x': 1173, 'y': 1178, 'description': 'strand', 'id': 'strand_1173_1178', 'type': 'strand'}], 'turn': [{'x': 159, 'y': 161, 'description': 'turn', 'id': 'turn_159_161', 'type': 'turn'}, {'x': 381, 'y': 384, 'description': 'turn', 'id': 'turn_381_384', 'type': 'turn'}, {'x': 452, 'y': 454, 'description': 'turn', 'id': 'turn_452_454', 'type': 'turn'}, {'x': 693, 'y': 696, 'description': 'turn', 'id': 'turn_693_696', 'type': 'turn'}, {'x': 1011, 'y': 1013, 'description': 'turn', 'id': 'turn_1011_1013', 'type': 'turn'}, {'x': 1061, 'y': 1063, 'description': 'turn', 'id': 'turn_1061_1063', 'type': 'turn'}, {'x': 1091, 'y': 1093, 'description': 'turn', 'id': 'turn_1091_1093', 'type': 'turn'}, {'x': 1136, 'y': 1138, 'description': 'turn', 'id': 'turn_1136_1138', 'type': 'turn'}], 'helix': [{'x': 162, 'y': 166, 'description': 'helix', 'id': 'helix_162_166', 'type': 'helix'}, {'x': 172, 'y': 179, 'description': 'helix', 'id': 'helix_172_179', 'type': 'helix'}, {'x': 202, 'y': 220, 'description': 'helix', 'id': 'helix_202_220', 'type': 'helix'}, {'x': 376, 'y': 380, 'description': 'helix', 'id': 'helix_376_380', 'type': 'helix'}, {'x': 386, 'y': 393, 'description': 'helix', 'id': 'helix_386_393', 'type': 'helix'}, {'x': 414, 'y': 434, 'description': 'helix', 'id': 'helix_414_434', 'type': 'helix'}, {'x': 446, 'y': 450, 'description': 'helix', 'id': 'helix_446_450', 'type': 'helix'}, {'x': 457, 'y': 464, 'description': 'helix', 'id': 'helix_457_464', 'type': 'helix'}, {'x': 488, 'y': 499, 'description': 'helix', 'id': 'helix_488_499', 'type': 'helix'}, {'x': 662, 'y': 669, 'description': 'helix', 'id': 'helix_662_669', 'type': 'helix'}, {'x': 674, 'y': 683, 'description': 'helix', 'id': 'helix_674_683', 'type': 'helix'}, {'x': 706, 'y': 723, 'description': 'helix', 'id': 'helix_706_723', 'type': 'helix'}, {'x': 981, 'y': 988, 'description': 'helix', 'id': 'helix_981_988', 'type': 'helix'}, {'x': 993, 'y': 1001, 'description': 'helix', 'id': 'helix_993_1001', 'type': 'helix'}, {'x': 1024, 'y': 1050, 'description': 'helix', 'id': 'helix_1024_1050', 'type': 'helix'}, {'x': 1064, 'y': 1067, 'description': 'helix', 'id': 'helix_1064_1067', 'type': 'helix'}, {'x': 1074, 'y': 1082, 'description': 'helix', 'id': 'helix_1074_1082', 'type': 'helix'}, {'x': 1107, 'y': 1126, 'description': 'helix', 'id': 'helix_1107_1126', 'type': 'helix'}, {'x': 1139, 'y': 1143, 'description': 'helix', 'id': 'helix_1139_1143', 'type': 'helix'}, {'x': 1149, 'y': 1157, 'description': 'helix', 'id': 'helix_1149_1157', 'type': 'helix'}, {'x': 1180, 'y': 1198, 'description': 'helix', 'id': 'helix_1180_1198', 'type': 'helix'}]}\n",
    "\n",
    "p = [{'tier': 1, **p} for p in pdbs] + [{'tier': 2, **p, 'id': 'SWISSMODEL:'+p['id']} for p in swissmodel]   \n",
    "w = Fuser(p, debug=False).order()\n",
    "\n",
    "print(w.joints)\n",
    "\n",
    "pymol.exporting.multisave('tmp.pdb')\n",
    "\n",
    "print('done')"
   ]
  },
  {
   "cell_type": "code",
   "execution_count": null,
   "metadata": {},
   "outputs": [],
   "source": [
    "# this will crash.\n",
    "w = Fuser([], debug=False).order()"
   ]
  },
  {
   "cell_type": "code",
   "execution_count": null,
   "metadata": {
    "pycharm": {
     "name": "#%%\n"
    }
   },
   "outputs": [],
   "source": [
    "display(pd.DataFrame.from_records(w.joints).sort_values(by='aft_resi_start'))"
   ]
  },
  {
   "cell_type": "markdown",
   "metadata": {
    "pycharm": {
     "name": "#%% md\n"
    }
   },
   "source": [
    "## Partner explorer"
   ]
  },
  {
   "cell_type": "code",
   "execution_count": null,
   "metadata": {
    "pycharm": {
     "name": "#%%\n"
    }
   },
   "outputs": [],
   "source": [
    "## list the partners.\n",
    "tdata = []\n",
    "for code, entry in data.items():\n",
    "    #print(entity['molecule_name'], entity['in_chains'], entity['in_struct_asyms'])\n",
    "    proteins = [entity for entity in entry if entity['molecule_type'] == 'polypeptide(L)']\n",
    "    protein_details = [f'{p[\"molecule_name\"][0]} ({p[\"in_chains\"]}/{p[\"in_struct_asyms\"]})' for p in proteins]\n",
    "                   \n",
    "    nonproteins = [entity for entity in entry if entity['molecule_type'] != 'polypeptide(L)']\n",
    "    nonprotein_details = [f'{p[\"molecule_name\"][0]} ({p[\"in_chains\"]}/{p[\"in_struct_asyms\"]})' for p in nonproteins]\n",
    "    #print(f'{code} has {len(proteins)} polypeptide chains: {protein_details}')\n",
    "    #print(f'{code} has {len(nonproteins)} non-polypeptide chains: {nonprotein_details}')\n",
    "    tdata.append({'code': code,\n",
    "         'N_peptides': len(proteins),\n",
    "         'N_other': len(nonproteins),\n",
    "         'protein_details': protein_details,\n",
    "         'nonprotein_details': nonprotein_details,\n",
    "         **{p[\"molecule_name\"][0]: len(p[\"in_chains\"]) for p in proteins}\n",
    "         })\n",
    "                          \n",
    "pd.DataFrame.from_records(tdata)"
   ]
  }
 ],
 "metadata": {
  "kernelspec": {
   "display_name": "Python 3",
   "language": "python",
   "name": "python3"
  },
  "language_info": {
   "codemirror_mode": {
    "name": "ipython",
    "version": 3
   },
   "file_extension": ".py",
   "mimetype": "text/x-python",
   "name": "python",
   "nbconvert_exporter": "python",
   "pygments_lexer": "ipython3",
   "version": "3.7.6"
  },
  "pycharm": {
   "stem_cell": {
    "cell_type": "raw",
    "source": [],
    "metadata": {
     "collapsed": false
    }
   }
  }
 },
 "nbformat": 4,
 "nbformat_minor": 2
}